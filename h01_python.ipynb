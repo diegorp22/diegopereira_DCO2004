{
 "cells": [
  {
   "cell_type": "code",
   "execution_count": null,
   "metadata": {},
   "outputs": [],
   "source": [
    "import numpy as np                       # Carrega biblioteca de cálculo numérico\n",
    "from matplotlib import pyplot as plt     # Carrega biblioteca gráfica\n",
    "Am = 1.0                                 # Amplitude da onda modulante\n",
    "fm = 60                                  # Amplitude da onda modulante\n",
    "ka = 1.0                                 # Índice de modulação\n",
    "Ac = 2.0                                 # Amplitude da portadora\n",
    "t = np.linspace(0,1000,1000)             # Eixo do tempo \n",
    "fc = 70                                  # Frequência da portadora\n",
    "mt = Am*np.cos(2*np.pi*fm*t)             # Onda modulante \n",
    "st = (Ac + ka*mt)*np.cos(2*np.pi*t*fc)   # Onda modulada\n",
    "plt.plot(t,st)                           # Monta o gráfico\n",
    "plt.show()                               # Mostra o gráfico na tela"
   ]
  }
 ],
 "metadata": {
  "kernelspec": {
   "display_name": "Matlab",
   "language": "matlab",
   "name": "matlab"
  },
  "language_info": {
   "codemirror_mode": "octave",
   "file_extension": ".m",
   "help_links": [
    {
     "text": "MetaKernel Magics",
     "url": "https://github.com/calysto/metakernel/blob/master/metakernel/magics/README.md"
    }
   ],
   "mimetype": "text/x-matlab",
   "name": "matlab",
   "version": "0.14.3"
  }
 },
 "nbformat": 4,
 "nbformat_minor": 2
}
