{
 "cells": [
  {
   "cell_type": "code",
   "execution_count": null,
   "metadata": {
    "collapsed": true
   },
   "outputs": [],
   "source": [
    "import numpy as np                       # Carrega biblioteca de cálculo numérico\n",
    "from matplotlib import pyplot as plt     # Carrega biblioteca gráfica\n",
    "Am = 1.0                                 # Amplitude da onda modulante\n",
    "fm = 60                                  # Amplitude da onda modulante\n",
    "ka = 1.0                                 # Índice de modulação\n",
    "Ac = 2.0                                 # Amplitude da portadora\n",
    "t = np.linspace(0,1000,1000)             # Eixo do tempo \n",
    "fc = 70                                  # Frequência da portadora\n",
    "mt = Am*np.cos(2*np.pi*fm*t)             # Onda modulante \n",
    "st = (Ac + ka*mt)*np.cos(2*np.pi*t*fc)   # Onda modulada\n",
    "plt.plot(t,st)                           # Monta o gráfico\n",
    "plt.show()                               # Mostra o gráfico na tela"
   ]
  }
 ],
 "metadata": {
  "kernelspec": {
   "display_name": "Python 3",
   "language": "python",
   "name": "python3"
  },
  "language_info": {
   "codemirror_mode": {
    "name": "ipython",
    "version": 3
   },
   "file_extension": ".py",
   "mimetype": "text/x-python",
   "name": "python",
   "nbconvert_exporter": "python",
   "pygments_lexer": "ipython3",
   "version": "3.4.5"
  }
 },
 "nbformat": 4,
 "nbformat_minor": 2
}
