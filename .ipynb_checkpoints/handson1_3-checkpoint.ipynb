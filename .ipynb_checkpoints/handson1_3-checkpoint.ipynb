{
 "cells": [
  {
   "cell_type": "code",
   "execution_count": null,
   "metadata": {},
   "outputs": [],
   "source": [
    "clear all;\n",
    "t = 1:10;\n",
    "f = 10;\n",
    "s = cos(2*pi*f*t);\n",
    "z = s + cos(2*pi*0.5*f*t);\n",
    "chDisplays = ['O valor máximo de s é ' num2str(max(s))];\n",
    "disp(chDisplays);\n",
    "chDisplayz = ['O valor máximo de z é ' num2str(max(z))];\n",
    "disp(chDisplayz);"
   ]
  }
 ],
 "metadata": {
  "kernelspec": {
   "display_name": "Matlab",
   "language": "matlab",
   "name": "matlab"
  },
  "language_info": {
   "codemirror_mode": "octave",
   "file_extension": ".m",
   "help_links": [
    {
     "text": "MetaKernel Magics",
     "url": "https://github.com/calysto/metakernel/blob/master/metakernel/magics/README.md"
    }
   ],
   "mimetype": "text/x-matlab",
   "name": "matlab",
   "version": "0.14.3"
  }
 },
 "nbformat": 4,
 "nbformat_minor": 2
}
