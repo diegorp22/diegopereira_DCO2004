{
 "cells": [
  {
   "cell_type": "code",
   "execution_count": 1,
   "metadata": {
    "collapsed": false
   },
   "outputs": [
    {
     "name": "stderr",
     "output_type": "stream",
     "text": [
      "\u001b[0;31mError using audioread (line 74)\n",
      "The filename specified was not found in the MATLAB path.\n",
      "\n",
      "\u001b[0m"
     ]
    }
   ],
   "source": [
    "close all;clc;clear all;                                          % Limpa variáveis e fecha todos os gráficos\n",
    "soundFile = ['./MATERIAL/HD_02_MATLAB/sound_01.wav'];             % Especifica do local e nome do arquivo de áudio\n",
    "[vtSom, dFa] = audioread(soundFile);                              % Abre arquivo de áudio de um arquivo\n",
    "% vtSom: amplitude das amostras de som\n",
    "% dFa: frequência de amostrasgem do som (amostragem no tempo)\n",
    "vtSom = 4*vtSom;\n",
    "dta = 1/dFa;                                                      % Tempo entre amostras\n",
    "dTFinal = (length(vtSom)-1)*dta;                                  % Tempo da última amostra do sinal de áudio\n",
    "vtTSom = 0:dta:dTFinal;                                           % Eixo temporal do arquivo de áudio\n",
    "plot(vtTSom,vtSom);                                               % Plota gráfico do áudio\n",
    "set(gcf,'color',[1 1 1]);                                         % Configura área da figura\n",
    "set(gca,'FontWeight','bold','FontSize',12);                       % Configura área do gráfico\n",
    "title(['Sinal de Áudio']);                                        % Configura título do gráfico\n",
    "ylabel('Amplitude');                                              % Configura eixo X do gráfico\n",
    "xlabel('Tempo (s)');                                              % Configura eixo Y do gráfico\n",
    "p = audioplayer(vtSom, 1*dFa);                                    % Reproduzir arquivo de áudio\n",
    "play(p);"
   ]
  },
  {
   "cell_type": "code",
   "execution_count": null,
   "metadata": {
    "collapsed": true
   },
   "outputs": [],
   "source": []
  }
 ],
 "metadata": {
  "kernelspec": {
   "display_name": "Matlab",
   "language": "matlab",
   "name": "matlab"
  },
  "language_info": {
   "codemirror_mode": "octave",
   "file_extension": ".m",
   "help_links": [
    {
     "text": "MetaKernel Magics",
     "url": "https://metakernel.readthedocs.io/en/latest/source/README.html"
    }
   ],
   "mimetype": "text/x-octave",
   "name": "matlab",
   "version": "0.16.7"
  }
 },
 "nbformat": 4,
 "nbformat_minor": 2
}
